{
 "cells": [
  {
   "cell_type": "code",
   "execution_count": 3,
   "id": "e23bde8d-48a8-4357-8ca8-74622b786d4c",
   "metadata": {},
   "outputs": [],
   "source": [
    "import requests\n",
    "from bs4 import BeautifulSoup\n",
    "\n"
   ]
  },
  {
   "cell_type": "code",
   "execution_count": 4,
   "id": "64feccf6-237d-477f-b2c7-63c2fa641f7d",
   "metadata": {},
   "outputs": [
    {
     "ename": "IndentationError",
     "evalue": "unexpected indent (1783864313.py, line 2)",
     "output_type": "error",
     "traceback": [
      "\u001b[0;36m  Cell \u001b[0;32mIn[4], line 2\u001b[0;36m\u001b[0m\n\u001b[0;31m    soup = BeautifulSoup(response.content, 'html.parser')\u001b[0m\n\u001b[0m    ^\u001b[0m\n\u001b[0;31mIndentationError\u001b[0m\u001b[0;31m:\u001b[0m unexpected indent\n"
     ]
    }
   ],
   "source": [
    "# Parse the HTML content\n",
    "    soup = BeautifulSoup(response.content, 'html.parser')"
   ]
  },
  {
   "cell_type": "code",
   "execution_count": null,
   "id": "fc6178c9-35c7-4f64-a2e6-46c2a244c372",
   "metadata": {},
   "outputs": [],
   "source": [
    "import requests\n",
    "from bs4 import BeautifulSoup\n",
    "import nltk\n",
    "from nltk.tokenize import word_tokenize\n",
    "nltk.download('stopwords')\n",
    "nltk.download('punkt') \n",
    "\n",
    "def seo_analysis(url):\n",
    "# Save the good and the warnings in lists\n",
    "    good = []\n",
    "    bad = []\n",
    "# Send a GET request to the website\n",
    "    response = requests.get(url)\n",
    "# Check the response status code\n",
    "    if response.status_code != 200:\n",
    "        print(\"Error: Unable to access the website.\")\n",
    "        return\n",
    "\n",
    "# Parse the HTML content\n",
    "    soup = BeautifulSoup(response.content, 'html.parser')\n",
    "\n",
    "# Extract the title and description\n",
    "    title = soup.find('title').get_text()\n",
    "    description = soup.find('meta', attrs={'name': 'description'})['content']\n",
    "\n",
    "# Check if the title and description exist\n",
    "    if title:\n",
    "        good.append(\"Title Exists! Great!\")\n",
    "    else:\n",
    "        bad.append(\"Title does not exist! Add a Title\")\n",
    "\n",
    "    if description:\n",
    "        good.append(\"Description Exists! Great!\")\n",
    "    else:\n",
    "        bad.append(\"Description does not exist! Add a Meta Description\")\n",
    "\n",
    "# Grab the Headings\n",
    "  hs = ['h1', 'h2', 'h3', 'h4', 'h5', 'h6']\n",
    "  h_tags = []\n",
    "  for h in soup.find_all(hs):\n",
    "    good.append(f\"{h.name}-->{h.text.strip()}\")\n",
    "    h_tags.append(h.name)\n",
    "\n",
    "  if 'h1' not in h_tags:\n",
    "    bad.append(\"No H1 found!\")\n",
    "\n",
    "# Extract the images without Alt\n",
    "    for i in soup.find_all('img', alt=''):\n",
    "        bad.append(f\"No Alt: {i}\") \n",
    "\n",
    "# Extract keywords\n",
    "# Grab the text from the body of html\n",
    "    bod = soup.find('body').text\n",
    "\n",
    "# Extract all the words in the body and lowercase them in a list\n",
    "    words = [i.lower() for i in word_tokenize(bod)]\n",
    "\n",
    "# Grab a list of English stopwords\n",
    "    sw = nltk.corpus.stopwords.words('english')\n",
    "    new_words = []\n",
    "\n",
    "# Put the tokens which are not stopwords and are actual words (no punctuation) in a new list\n",
    "    for i in words:\n",
    "      if i not in sw and i.isalpha():\n",
    "        new_words.append(i)\n",
    "\n",
    "# Extract the fequency of the words and get the 10 most common ones\n",
    "    freq = nltk.FreqDist(new_words)\n",
    "    keywords= freq.most_common(10)\n",
    "\n",
    "# Print the results\n",
    "    print(\"Keywords: \", keywords)\n",
    "    print(\"The Good: \", good)\n",
    "    print(\"The Bad: \", bad)\n",
    "    \n",
    "# Call the function to see the results\n",
    "seo_analysis(\"https://pythonology.eu/what-is-syntax-in-programming-and-linguistics/\")"
   ]
  }
 ],
 "metadata": {
  "kernelspec": {
   "display_name": "Python 3 (ipykernel)",
   "language": "python",
   "name": "python3"
  },
  "language_info": {
   "codemirror_mode": {
    "name": "ipython",
    "version": 3
   },
   "file_extension": ".py",
   "mimetype": "text/x-python",
   "name": "python",
   "nbconvert_exporter": "python",
   "pygments_lexer": "ipython3",
   "version": "3.10.4"
  }
 },
 "nbformat": 4,
 "nbformat_minor": 5
}
